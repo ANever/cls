{
 "cells": [
  {
   "attachments": {},
   "cell_type": "markdown",
   "metadata": {},
   "source": [
    "parsing equations from strings sandbox"
   ]
  },
  {
   "cell_type": "code",
   "execution_count": 1,
   "metadata": {},
   "outputs": [
    {
     "data": {
      "text/plain": [
       "'du/dx^2y^3 * (a+b)'"
      ]
     },
     "execution_count": 1,
     "metadata": {},
     "output_type": "execute_result"
    }
   ],
   "source": [
    "'du/dx^2y^3 * (a+b)'"
   ]
  },
  {
   "cell_type": "code",
   "execution_count": 8,
   "metadata": {},
   "outputs": [
    {
     "data": {
      "text/plain": [
       "<function __main__.f.<locals>.<lambda>(u_loc, u_bas, x, x_loc)>"
      ]
     },
     "execution_count": 8,
     "metadata": {},
     "output_type": "execute_result"
    }
   ],
   "source": [
    "eps = 1\n",
    "w =1 \n",
    "colloc_weight = 1\n",
    "def f(x):\n",
    "    return lambda u_loc, u_bas, x, x_loc:  (u_bas([1,0],0)-eps*u_bas([0,2],0)\n",
    "                                                -(u_bas([0,1],0)*u_loc([0,1],1)+\n",
    "                                                u_loc([0,1],0)*u_bas([0,1],1)+\n",
    "\n",
    "                                                u_loc([0,0],0)*u_bas([0,2],1)+\n",
    "                                                u_bas([0,0],0)*u_loc([0,2],1))\n",
    "                                            ) * w**2*colloc_weight\n",
    "\n",
    "string = \"f(0)\"\n",
    "eval(string)"
   ]
  },
  {
   "cell_type": "code",
   "execution_count": 9,
   "metadata": {},
   "outputs": [],
   "source": [
    "# lambda u_loc, u_bas, x, x_loc:  (u_bas([1,0],0)-eps*u_bas([0,2],0)\n",
    "#                                                 -(u_bas([0,1],0)*u_loc([0,1],1)+\n",
    "#                                                 u_loc([0,1],0)*u_bas([0,1],1)+\n",
    "\n",
    "#                                                 u_loc([0,0],0)*u_bas([0,2],1)+\n",
    "#                                                 u_bas([0,0],0)*u_loc([0,2],1))\n",
    "#                                             ) * w**2*colloc_weight\n",
    "\n",
    "\n",
    "string = \"d/dt(u0) - eps * d/dx^2(u0) - div(u0 * d/dx(u1))\"\n",
    "#must be result \n",
    "string = string.replace('dx', 'dx1')\n",
    "string = string.replace('dt', 'dx0')"
   ]
  },
  {
   "cell_type": "code",
   "execution_count": 11,
   "metadata": {},
   "outputs": [
    {
     "data": {
      "text/plain": [
       "['d/dx0(u0)', '-', 'eps', '*', 'd/dx1^2(u0)', '-', 'div(u0', '*', 'd/dx1(u1))']"
      ]
     },
     "execution_count": 11,
     "metadata": {},
     "output_type": "execute_result"
    }
   ],
   "source": [
    "string.split(\" \")"
   ]
  },
  {
   "cell_type": "code",
   "execution_count": null,
   "metadata": {},
   "outputs": [],
   "source": [
    "'d/dx0(u0)'"
   ]
  },
  {
   "cell_type": "code",
   "execution_count": 12,
   "metadata": {},
   "outputs": [
    {
     "data": {
      "text/plain": [
       "0"
      ]
     },
     "execution_count": 12,
     "metadata": {},
     "output_type": "execute_result"
    }
   ],
   "source": [
    "eval('f(0)')"
   ]
  }
 ],
 "metadata": {
  "kernelspec": {
   "display_name": "knk",
   "language": "python",
   "name": "python3"
  },
  "language_info": {
   "codemirror_mode": {
    "name": "ipython",
    "version": 3
   },
   "file_extension": ".py",
   "mimetype": "text/x-python",
   "name": "python",
   "nbconvert_exporter": "python",
   "pygments_lexer": "ipython3",
   "version": "3.9.0"
  },
  "orig_nbformat": 4
 },
 "nbformat": 4,
 "nbformat_minor": 2
}
