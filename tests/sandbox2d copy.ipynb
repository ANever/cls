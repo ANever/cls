{
 "cells": [
  {
   "cell_type": "code",
   "execution_count": null,
   "metadata": {},
   "outputs": [],
   "source": [
    "from solution_global_wip import Solution\n",
    "from basis import Basis\n",
    "import itertools\n",
    "import numpy as np\n",
    "\n",
    "power = 3\n",
    "\n",
    "def dir(point: np.array) -> np.array:\n",
    "            direction = (np.abs(point) == 1) * (np.sign(point)) \n",
    "            return np.array(direction, dtype=int)\n",
    "\n",
    "def f_collocation_points(N):\n",
    "    points = np.zeros(N+1)\n",
    "    h = 2/(N+1)\n",
    "    points[0] = -1 + h/2\n",
    "    for i in range(1, N+1):\n",
    "        points[i] = points[i-1] + h\n",
    "    return np.array(points).reshape(N+1,1)\n",
    "\n",
    "# c_p_1d = f_collocation_points(int(np.ceil(power/2))).reshape(int(np.ceil(power/2))+1)\n",
    "\n",
    "c_p_1d = f_collocation_points(power).reshape(power+1)\n",
    "\n",
    "colloc_points = np.array(list(itertools.product(c_p_1d, c_p_1d)))\n",
    "\n",
    "def exact_sol(point):\n",
    "    y, x = point\n",
    "    return x**2 * y\n",
    "\n",
    "# def exact_der(point):\n",
    "#     x, y = point\n",
    "#     return x**2 * y\n",
    "\n",
    "def f(point):\n",
    "    y, x = point\n",
    "    return 2*x*y + x**2\n",
    "\n",
    "params = {\n",
    "    'n_dims': 2,\n",
    "    'dim_sizes': np.array([4, 4]),\n",
    "    'area_lims': np.array([[0,1], [0,1]]),\n",
    "    'power': power,\n",
    "    'basis': Basis(power),\n",
    "}\n",
    "sol = Solution(**params)\n",
    "\n",
    "connect_points = np.array([[-1, 0.5], [1, 0.5],\n",
    "                            [0.5, -1], [0.5, 1],\n",
    "                            [-1, -0.5], [1, -0.5],\n",
    "                            [-0.5, -1], [-0.5, 1],])\n",
    "border_points = connect_points\n",
    "\n",
    "w = (sol.steps[0]/2)\n",
    "\n",
    "colloc_left_operators = [lambda u_loc, u_bas, x, x_loc: (u_bas([1,0]) + u_bas([0,1])) * w]\n",
    "colloc_right_operators = [lambda u_loc, u_nei, x, x_loc: f(x) * w]\n",
    "colloc_ops = [colloc_left_operators, colloc_right_operators]\n",
    "\n",
    "border_left_operators = [lambda _, u_bas, x, x_loc: u_bas([0,0]), \n",
    "                            # lambda _, u_bas, x, x_loc: u_bas([1,0]) * w\n",
    "                            ]\n",
    "border_right_operators = [lambda u, _, x, x_loc: exact_sol(x),\n",
    "                            # lambda u, _, x, x_loc: 0 * w\n",
    "                            ]\n",
    "border_ops = [border_left_operators, border_right_operators]\n",
    "\n",
    "points = (colloc_points, connect_points, border_points)\n",
    "\n",
    "connect_left_operators = [lambda _, u_bas, x, x_loc: u_bas(0*dir(x_loc)) + np.sum(dir(x_loc)) * u_bas(dir(x_loc)) * w,\n",
    "                        lambda _, u_bas, x, x_loc: u_bas(2*dir(x_loc))* w**2 + np.sum(dir(x_loc)) * u_bas(3*dir(x_loc))* w**3\n",
    "                        ]\n",
    "# connect_right_operators = [lambda _, u_nei, x, x_loc: u_nei(0*dir(x_loc)) + np.sum(dir(x_loc))*u_nei(dir(x_loc))* w,\n",
    "#                             lambda _, u_nei, x, x_loc: u_nei(2*dir(x_loc))* w**2 + np.sum(dir(x_loc)) * u_nei(3*dir(x_loc))* w**3\n",
    "                            # ]\n",
    "connect_right_operators = [lambda _, u_nei, x, x_loc: u_nei(0*dir(x_loc)) - np.sum(dir(x_loc))*u_nei(dir(x_loc))* w,\n",
    "                            lambda _, u_nei, x, x_loc: u_nei(2*dir(x_loc))* w**2 - np.sum(dir(x_loc)) * u_nei(3*dir(x_loc))* w**3\n",
    "                            ]\n",
    "\n",
    "connect_ops = [connect_left_operators, connect_right_operators]\n",
    "\n",
    "iteration_dict = {'points':points,\n",
    "        'colloc_ops':colloc_ops,\n",
    "        'border_ops':border_ops,\n",
    "        'connect_ops':connect_ops}\n",
    "\n",
    "# sol.solve(verbose = True, **iteration_dict)"
   ]
  },
  {
   "cell_type": "code",
   "execution_count": null,
   "metadata": {},
   "outputs": [],
   "source": [
    "A, b = sol.generate_global_system(**iteration_dict, connect_weight=1)\n",
    "\n",
    "from qr_solver import QR_solve\n",
    "res = QR_solve(A,b)\n",
    "\n",
    "inds = [list(range(size)) for size in sol.dim_sizes]\n",
    "all_cells = list(itertools.product(*inds))\n",
    "\n",
    "cell_shape = tuple([sol.power]*sol.n_dims)\n",
    "cell_size = np.prod(cell_shape)\n",
    "size = int(cell_size*sol.n_funcs)\n",
    "\n",
    "for cell in all_cells:\n",
    "    cell_index = cell[1] + cell[0] * sol.dim_sizes[1]\n",
    "    cell_res = res[size*cell_index:size*(cell_index+1)]\n",
    "\n",
    "    for i in range(sol.n_funcs):\n",
    "        sol.cells_coefs[(i,*cell)] = cell_res[i*cell_size:(i+1)*cell_size].reshape(cell_shape)"
   ]
  },
  {
   "cell_type": "code",
   "execution_count": null,
   "metadata": {},
   "outputs": [],
   "source": [
    "sol.plot2d()"
   ]
  },
  {
   "cell_type": "code",
   "execution_count": null,
   "metadata": {},
   "outputs": [],
   "source": [
    "all_cells"
   ]
  },
  {
   "cell_type": "code",
   "execution_count": null,
   "metadata": {},
   "outputs": [],
   "source": [
    "np.set_printoptions(threshold=sys.maxsize)"
   ]
  },
  {
   "cell_type": "code",
   "execution_count": null,
   "metadata": {},
   "outputs": [],
   "source": [
    "import matplotlib.pyplot as plt\n",
    "from matplotlib import cm\n",
    "\n",
    "n= 100\n",
    "func = np.zeros((n,n))\n",
    "ax1 = np.linspace(sol.area_lims[0,0], sol.area_lims[0,1], 100, endpoint=False)\n",
    "ax2 = np.linspace(sol.area_lims[1,0], sol.area_lims[1,1], 100, endpoint=False)\n",
    "grid = list(itertools.product(ax1, ax2))\n",
    "for i in range(n):\n",
    "        for j in range(n): \n",
    "                func[i, j] = sol.eval([ax1[i], ax2[j]], [0,0])\n",
    "X, Y = np.meshgrid(ax1, ax2)\n",
    "fig, ax = plt.subplots(subplot_kw={\"projection\": \"3d\"})\n",
    "surf = ax.plot_surface(X, Y, func, cmap=cm.coolwarm,\n",
    "        linewidth=0, antialiased=False)\n",
    "ax.set_xlabel('x')\n",
    "ax.set_ylabel('y')\n",
    "ax.view_init(20, -120)\n",
    "# Customize the z axis.\n",
    "# ax.set_zlim(-1.01, 1.01)\n",
    "# ax.zaxis.set_major_locator(LinearLocator(10))\n",
    "# # A StrMethodFormatter is used automatically\n",
    "# ax.zaxis.set_major_formatter('{x:.02f}')\n",
    "\n",
    "# Add a color bar which maps values to colors.\n",
    "# fig.colorbar(surf, shrink=0.5, aspect=5)\n",
    "plt.show()\n",
    "# for angle in range(0, 360):\n",
    "#     ax.view_init(30, angle)\n",
    "#     plt.draw()\n",
    "#     plt.pause(.001)"
   ]
  },
  {
   "cell_type": "code",
   "execution_count": null,
   "metadata": {},
   "outputs": [],
   "source": [
    "sol.cells_coefs[0,0]"
   ]
  },
  {
   "cell_type": "code",
   "execution_count": null,
   "metadata": {},
   "outputs": [],
   "source": [
    "sol.eval([0,0.01], [0,0], local=False)"
   ]
  },
  {
   "cell_type": "code",
   "execution_count": null,
   "metadata": {},
   "outputs": [],
   "source": [
    "dir([0.5, 1])"
   ]
  },
  {
   "cell_type": "code",
   "execution_count": null,
   "metadata": {},
   "outputs": [],
   "source": [
    "sol.basis.eval([0,0.2], [0,0])"
   ]
  },
  {
   "cell_type": "code",
   "execution_count": null,
   "metadata": {},
   "outputs": [],
   "source": [
    "sol.basis.eval([0,0.2], [0,0], ravel=True)"
   ]
  },
  {
   "cell_type": "code",
   "execution_count": null,
   "metadata": {},
   "outputs": [],
   "source": [
    "a = sol.basis.eval([0.5,0.2], [0,0], ravel=False)"
   ]
  },
  {
   "cell_type": "code",
   "execution_count": null,
   "metadata": {},
   "outputs": [],
   "source": [
    "a"
   ]
  },
  {
   "cell_type": "code",
   "execution_count": null,
   "metadata": {},
   "outputs": [],
   "source": [
    "np.outer(a[0], a[1])"
   ]
  },
  {
   "cell_type": "code",
   "execution_count": null,
   "metadata": {},
   "outputs": [],
   "source": [
    "np.outer(a[0], a[1]).ravel(order='F').reshape(sol.cells_shape[-2:], order='F')"
   ]
  },
  {
   "cell_type": "code",
   "execution_count": null,
   "metadata": {},
   "outputs": [],
   "source": [
    "sol.basis.eval([1,1], [0,1], ravel=True)"
   ]
  },
  {
   "cell_type": "code",
   "execution_count": null,
   "metadata": {},
   "outputs": [],
   "source": [
    "sol.basis.eval([1,1], [0,1], ravel=False)"
   ]
  },
  {
   "cell_type": "code",
   "execution_count": null,
   "metadata": {},
   "outputs": [],
   "source": [
    "sol.cells_coefs[0,0]"
   ]
  },
  {
   "cell_type": "code",
   "execution_count": null,
   "metadata": {},
   "outputs": [],
   "source": [
    "sol.cells_coefs[0,0] = np.zeros((3,3))\n",
    "sol.cells_coefs[0,0,0,1] = 1"
   ]
  },
  {
   "cell_type": "code",
   "execution_count": null,
   "metadata": {},
   "outputs": [],
   "source": [
    "sol.cells_coefs[0,0]"
   ]
  },
  {
   "cell_type": "code",
   "execution_count": null,
   "metadata": {},
   "outputs": [],
   "source": [
    "sol.eval(cell_num = [0,0], point=[1, 0.5], derivatives=[0,0], local=True)"
   ]
  },
  {
   "cell_type": "code",
   "execution_count": null,
   "metadata": {},
   "outputs": [],
   "source": [
    "sol.basis.eval([1,1], [0,1], ravel=False)[::-1]"
   ]
  },
  {
   "cell_type": "code",
   "execution_count": null,
   "metadata": {},
   "outputs": [],
   "source": [
    "sol.basis.eval([1,1], [0,1], ravel=False)"
   ]
  },
  {
   "cell_type": "code",
   "execution_count": null,
   "metadata": {},
   "outputs": [],
   "source": [
    "a = copy.deepcopy(sol.cells_coefs[0,0])\n",
    "for i in sol.basis.eval([1,1], [0,1], ravel=False)[::-1]\n",
    "    a = a @ \n",
    "    "
   ]
  },
  {
   "cell_type": "code",
   "execution_count": null,
   "metadata": {},
   "outputs": [],
   "source": []
  }
 ],
 "metadata": {
  "kernelspec": {
   "display_name": "Python 3.9.0 ('knk')",
   "language": "python",
   "name": "python3"
  },
  "language_info": {
   "codemirror_mode": {
    "name": "ipython",
    "version": 3
   },
   "file_extension": ".py",
   "mimetype": "text/x-python",
   "name": "python",
   "nbconvert_exporter": "python",
   "pygments_lexer": "ipython3",
   "version": "3.9.0"
  },
  "orig_nbformat": 4,
  "vscode": {
   "interpreter": {
    "hash": "4821116c1890b679e0ac5bc3503030715d51cd2bd94355d2bee0c3e5ac19d371"
   }
  }
 },
 "nbformat": 4,
 "nbformat_minor": 2
}
